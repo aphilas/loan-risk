{
 "cells": [
  {
   "cell_type": "markdown",
   "source": "## Bank loan risk classification",
   "metadata": {
    "id": "Gexb4u9jvUEg",
    "cell_id": "00002-acb8e3ad-338c-4562-a86f-0a40e45c6e21",
    "deepnote_cell_type": "markdown"
   }
  },
  {
   "cell_type": "code",
   "metadata": {
    "id": "2AHsgDO5xknx",
    "cell_id": "00001-5f3799e9-3c57-429d-9f1f-ca0ec4d40802",
    "deepnote_to_be_reexecuted": false,
    "source_hash": "8ebed30e",
    "execution_start": 1646396602141,
    "execution_millis": 1983,
    "deepnote_cell_type": "code"
   },
   "source": "import pandas as pd\nimport numpy as np\nfrom sklearn.neighbors import KNeighborsClassifier\nfrom sklearn.tree import DecisionTreeClassifier\nfrom sklearn.preprocessing import LabelEncoder\nfrom sklearn.model_selection import train_test_split, cross_val_score, validation_curve\nfrom sklearn.svm import SVC\n%matplotlib inline\nimport matplotlib.pyplot as plt\nimport seaborn; seaborn.set()",
   "execution_count": null,
   "outputs": []
  },
  {
   "cell_type": "code",
   "metadata": {
    "id": "IOmEcliOxb7T",
    "cell_id": "00003-813363b3-b946-4ed7-be94-23b638a8dcef",
    "deepnote_to_be_reexecuted": false,
    "source_hash": "b3a08210",
    "execution_start": 1646396604128,
    "execution_millis": 1554,
    "deepnote_cell_type": "code"
   },
   "source": "df = pd.read_excel('https://github.com/aphilas/loan-risk/blob/main/Risk%20data.xlsx?raw=true')\ndf = df.loc[:, ~df.columns.str.contains('^Unnamed')] # Drop \"#Unnamed\" colums\n# df.head()\ndf",
   "execution_count": null,
   "outputs": [
    {
     "output_type": "execute_result",
     "execution_count": 2,
     "data": {
      "application/vnd.deepnote.dataframe.v3+json": {
       "column_count": 12,
       "row_count": 4117,
       "columns": [
        {
         "name": "ID",
         "dtype": "int64",
         "stats": {
          "unique_count": 4117,
          "nan_count": 0,
          "min": "100001",
          "max": "104117",
          "histogram": [
           {
            "bin_start": 100001,
            "bin_end": 100412.6,
            "count": 412
           },
           {
            "bin_start": 100412.6,
            "bin_end": 100824.2,
            "count": 412
           },
           {
            "bin_start": 100824.2,
            "bin_end": 101235.8,
            "count": 411
           },
           {
            "bin_start": 101235.8,
            "bin_end": 101647.4,
            "count": 412
           },
           {
            "bin_start": 101647.4,
            "bin_end": 102059,
            "count": 411
           },
           {
            "bin_start": 102059,
            "bin_end": 102470.6,
            "count": 412
           },
           {
            "bin_start": 102470.6,
            "bin_end": 102882.2,
            "count": 412
           },
           {
            "bin_start": 102882.2,
            "bin_end": 103293.8,
            "count": 411
           },
           {
            "bin_start": 103293.8,
            "bin_end": 103705.4,
            "count": 412
           },
           {
            "bin_start": 103705.4,
            "bin_end": 104117,
            "count": 412
           }
          ]
         }
        },
        {
         "name": "AGE",
         "dtype": "int64",
         "stats": {
          "unique_count": 33,
          "nan_count": 0,
          "min": "18",
          "max": "50",
          "histogram": [
           {
            "bin_start": 18,
            "bin_end": 21.2,
            "count": 735
           },
           {
            "bin_start": 21.2,
            "bin_end": 24.4,
            "count": 721
           },
           {
            "bin_start": 24.4,
            "bin_end": 27.6,
            "count": 368
           },
           {
            "bin_start": 27.6,
            "bin_end": 30.8,
            "count": 232
           },
           {
            "bin_start": 30.8,
            "bin_end": 34,
            "count": 280
           },
           {
            "bin_start": 34,
            "bin_end": 37.2,
            "count": 400
           },
           {
            "bin_start": 37.2,
            "bin_end": 40.400000000000006,
            "count": 280
           },
           {
            "bin_start": 40.400000000000006,
            "bin_end": 43.6,
            "count": 383
           },
           {
            "bin_start": 43.6,
            "bin_end": 46.8,
            "count": 358
           },
           {
            "bin_start": 46.8,
            "bin_end": 50,
            "count": 360
           }
          ]
         }
        },
        {
         "name": "INCOME",
         "dtype": "int64",
         "stats": {
          "unique_count": 3675,
          "nan_count": 0,
          "min": "15005",
          "max": "59944",
          "histogram": [
           {
            "bin_start": 15005,
            "bin_end": 19498.9,
            "count": 845
           },
           {
            "bin_start": 19498.9,
            "bin_end": 23992.8,
            "count": 1456
           },
           {
            "bin_start": 23992.8,
            "bin_end": 28486.699999999997,
            "count": 919
           },
           {
            "bin_start": 28486.699999999997,
            "bin_end": 32980.6,
            "count": 304
           },
           {
            "bin_start": 32980.6,
            "bin_end": 37474.5,
            "count": 78
           },
           {
            "bin_start": 37474.5,
            "bin_end": 41968.399999999994,
            "count": 150
           },
           {
            "bin_start": 41968.399999999994,
            "bin_end": 46462.299999999996,
            "count": 218
           },
           {
            "bin_start": 46462.299999999996,
            "bin_end": 50956.2,
            "count": 56
           },
           {
            "bin_start": 50956.2,
            "bin_end": 55450.1,
            "count": 50
           },
           {
            "bin_start": 55450.1,
            "bin_end": 59944,
            "count": 41
           }
          ]
         }
        },
        {
         "name": "GENDER",
         "dtype": "object",
         "stats": {
          "unique_count": 2,
          "nan_count": 0,
          "categories": [
           {
            "name": "f",
            "count": 2077
           },
           {
            "name": "m",
            "count": 2040
           }
          ]
         }
        },
        {
         "name": "MARITAL",
         "dtype": "object",
         "stats": {
          "unique_count": 3,
          "nan_count": 0,
          "categories": [
           {
            "name": "married",
            "count": 2089
           },
           {
            "name": "single",
            "count": 1155
           },
           {
            "name": "divsepwid",
            "count": 873
           }
          ]
         }
        },
        {
         "name": "NUMKIDS",
         "dtype": "int64",
         "stats": {
          "unique_count": 5,
          "nan_count": 0,
          "min": "0",
          "max": "4",
          "histogram": [
           {
            "bin_start": 0,
            "bin_end": 0.4,
            "count": 981
           },
           {
            "bin_start": 0.4,
            "bin_end": 0.8,
            "count": 0
           },
           {
            "bin_start": 0.8,
            "bin_end": 1.2000000000000002,
            "count": 1329
           },
           {
            "bin_start": 1.2000000000000002,
            "bin_end": 1.6,
            "count": 0
           },
           {
            "bin_start": 1.6,
            "bin_end": 2,
            "count": 0
           },
           {
            "bin_start": 2,
            "bin_end": 2.4000000000000004,
            "count": 1062
           },
           {
            "bin_start": 2.4000000000000004,
            "bin_end": 2.8000000000000003,
            "count": 0
           },
           {
            "bin_start": 2.8000000000000003,
            "bin_end": 3.2,
            "count": 453
           },
           {
            "bin_start": 3.2,
            "bin_end": 3.6,
            "count": 0
           },
           {
            "bin_start": 3.6,
            "bin_end": 4,
            "count": 292
           }
          ]
         }
        },
        {
         "name": "NUMCARDS",
         "dtype": "int64",
         "stats": {
          "unique_count": 7,
          "nan_count": 0,
          "min": "0",
          "max": "6",
          "histogram": [
           {
            "bin_start": 0,
            "bin_end": 0.6,
            "count": 538
           },
           {
            "bin_start": 0.6,
            "bin_end": 1.2,
            "count": 1070
           },
           {
            "bin_start": 1.2,
            "bin_end": 1.7999999999999998,
            "count": 0
           },
           {
            "bin_start": 1.7999999999999998,
            "bin_end": 2.4,
            "count": 969
           },
           {
            "bin_start": 2.4,
            "bin_end": 3,
            "count": 0
           },
           {
            "bin_start": 3,
            "bin_end": 3.5999999999999996,
            "count": 461
           },
           {
            "bin_start": 3.5999999999999996,
            "bin_end": 4.2,
            "count": 206
           },
           {
            "bin_start": 4.2,
            "bin_end": 4.8,
            "count": 0
           },
           {
            "bin_start": 4.8,
            "bin_end": 5.3999999999999995,
            "count": 451
           },
           {
            "bin_start": 5.3999999999999995,
            "bin_end": 6,
            "count": 422
           }
          ]
         }
        },
        {
         "name": "HOWPAID",
         "dtype": "object",
         "stats": {
          "unique_count": 2,
          "nan_count": 0,
          "categories": [
           {
            "name": "weekly",
            "count": 2091
           },
           {
            "name": "monthly",
            "count": 2026
           }
          ]
         }
        },
        {
         "name": "MORTGAGE",
         "dtype": "object",
         "stats": {
          "unique_count": 2,
          "nan_count": 0,
          "categories": [
           {
            "name": "y",
            "count": 3200
           },
           {
            "name": "n",
            "count": 917
           }
          ]
         }
        },
        {
         "name": "STORECAR",
         "dtype": "int64",
         "stats": {
          "unique_count": 6,
          "nan_count": 0,
          "min": "0",
          "max": "5",
          "histogram": [
           {
            "bin_start": 0,
            "bin_end": 0.5,
            "count": 89
           },
           {
            "bin_start": 0.5,
            "bin_end": 1,
            "count": 0
           },
           {
            "bin_start": 1,
            "bin_end": 1.5,
            "count": 1064
           },
           {
            "bin_start": 1.5,
            "bin_end": 2,
            "count": 0
           },
           {
            "bin_start": 2,
            "bin_end": 2.5,
            "count": 1042
           },
           {
            "bin_start": 2.5,
            "bin_end": 3,
            "count": 0
           },
           {
            "bin_start": 3,
            "bin_end": 3.5,
            "count": 955
           },
           {
            "bin_start": 3.5,
            "bin_end": 4,
            "count": 0
           },
           {
            "bin_start": 4,
            "bin_end": 4.5,
            "count": 490
           },
           {
            "bin_start": 4.5,
            "bin_end": 5,
            "count": 477
           }
          ]
         }
        },
        {
         "name": "LOANS",
         "dtype": "int64",
         "stats": {
          "unique_count": 4,
          "nan_count": 0,
          "min": "0",
          "max": "3",
          "histogram": [
           {
            "bin_start": 0,
            "bin_end": 0.3,
            "count": 528
           },
           {
            "bin_start": 0.3,
            "bin_end": 0.6,
            "count": 0
           },
           {
            "bin_start": 0.6,
            "bin_end": 0.8999999999999999,
            "count": 0
           },
           {
            "bin_start": 0.8999999999999999,
            "bin_end": 1.2,
            "count": 1949
           },
           {
            "bin_start": 1.2,
            "bin_end": 1.5,
            "count": 0
           },
           {
            "bin_start": 1.5,
            "bin_end": 1.7999999999999998,
            "count": 0
           },
           {
            "bin_start": 1.7999999999999998,
            "bin_end": 2.1,
            "count": 1205
           },
           {
            "bin_start": 2.1,
            "bin_end": 2.4,
            "count": 0
           },
           {
            "bin_start": 2.4,
            "bin_end": 2.6999999999999997,
            "count": 0
           },
           {
            "bin_start": 2.6999999999999997,
            "bin_end": 3,
            "count": 435
           }
          ]
         }
        },
        {
         "name": "RISK",
         "dtype": "object",
         "stats": {
          "unique_count": 3,
          "nan_count": 0,
          "categories": [
           {
            "name": "bad profit",
            "count": 2407
           },
           {
            "name": "bad loss",
            "count": 906
           },
           {
            "name": "good risk",
            "count": 804
           }
          ]
         }
        },
        {
         "name": "_deepnote_index_column",
         "dtype": "int64"
        }
       ],
       "rows": [
        {
         "ID": 100756,
         "AGE": 44,
         "INCOME": 59944,
         "GENDER": "m",
         "MARITAL": "married",
         "NUMKIDS": 1,
         "NUMCARDS": 2,
         "HOWPAID": "monthly",
         "MORTGAGE": "y",
         "STORECAR": 2,
         "LOANS": 0,
         "RISK": "good risk",
         "_deepnote_index_column": 0
        },
        {
         "ID": 100668,
         "AGE": 35,
         "INCOME": 59692,
         "GENDER": "m",
         "MARITAL": "married",
         "NUMKIDS": 1,
         "NUMCARDS": 1,
         "HOWPAID": "monthly",
         "MORTGAGE": "y",
         "STORECAR": 1,
         "LOANS": 0,
         "RISK": "bad loss",
         "_deepnote_index_column": 1
        },
        {
         "ID": 100418,
         "AGE": 34,
         "INCOME": 59508,
         "GENDER": "m",
         "MARITAL": "married",
         "NUMKIDS": 1,
         "NUMCARDS": 1,
         "HOWPAID": "monthly",
         "MORTGAGE": "y",
         "STORECAR": 2,
         "LOANS": 1,
         "RISK": "good risk",
         "_deepnote_index_column": 2
        },
        {
         "ID": 100416,
         "AGE": 34,
         "INCOME": 59463,
         "GENDER": "m",
         "MARITAL": "married",
         "NUMKIDS": 0,
         "NUMCARDS": 2,
         "HOWPAID": "monthly",
         "MORTGAGE": "y",
         "STORECAR": 1,
         "LOANS": 1,
         "RISK": "bad loss",
         "_deepnote_index_column": 3
        },
        {
         "ID": 100590,
         "AGE": 39,
         "INCOME": 59393,
         "GENDER": "f",
         "MARITAL": "married",
         "NUMKIDS": 0,
         "NUMCARDS": 2,
         "HOWPAID": "monthly",
         "MORTGAGE": "y",
         "STORECAR": 1,
         "LOANS": 0,
         "RISK": "good risk",
         "_deepnote_index_column": 4
        },
        {
         "ID": 100657,
         "AGE": 41,
         "INCOME": 59276,
         "GENDER": "m",
         "MARITAL": "married",
         "NUMKIDS": 1,
         "NUMCARDS": 2,
         "HOWPAID": "monthly",
         "MORTGAGE": "y",
         "STORECAR": 1,
         "LOANS": 1,
         "RISK": "good risk",
         "_deepnote_index_column": 5
        },
        {
         "ID": 100702,
         "AGE": 42,
         "INCOME": 59201,
         "GENDER": "m",
         "MARITAL": "married",
         "NUMKIDS": 0,
         "NUMCARDS": 1,
         "HOWPAID": "monthly",
         "MORTGAGE": "y",
         "STORECAR": 2,
         "LOANS": 0,
         "RISK": "good risk",
         "_deepnote_index_column": 6
        },
        {
         "ID": 100319,
         "AGE": 31,
         "INCOME": 59193,
         "GENDER": "f",
         "MARITAL": "married",
         "NUMKIDS": 1,
         "NUMCARDS": 2,
         "HOWPAID": "monthly",
         "MORTGAGE": "y",
         "STORECAR": 1,
         "LOANS": 1,
         "RISK": "good risk",
         "_deepnote_index_column": 7
        },
        {
         "ID": 100666,
         "AGE": 28,
         "INCOME": 59179,
         "GENDER": "m",
         "MARITAL": "married",
         "NUMKIDS": 1,
         "NUMCARDS": 1,
         "HOWPAID": "monthly",
         "MORTGAGE": "y",
         "STORECAR": 2,
         "LOANS": 1,
         "RISK": "bad loss",
         "_deepnote_index_column": 8
        },
        {
         "ID": 100389,
         "AGE": 30,
         "INCOME": 59036,
         "GENDER": "m",
         "MARITAL": "married",
         "NUMKIDS": 1,
         "NUMCARDS": 1,
         "HOWPAID": "monthly",
         "MORTGAGE": "y",
         "STORECAR": 2,
         "LOANS": 1,
         "RISK": "good risk",
         "_deepnote_index_column": 9
        }
       ]
      },
      "text/plain": "          ID  AGE  INCOME GENDER    MARITAL  NUMKIDS  NUMCARDS  HOWPAID  \\\n0     100756   44   59944      m    married        1         2  monthly   \n1     100668   35   59692      m    married        1         1  monthly   \n2     100418   34   59508      m    married        1         1  monthly   \n3     100416   34   59463      m    married        0         2  monthly   \n4     100590   39   59393      f    married        0         2  monthly   \n...      ...  ...     ...    ...        ...      ...       ...      ...   \n4112  101121   20   15035      m    married        2         2   weekly   \n4113  101602   23   15032      f    married        1         1  monthly   \n4114  101983   25   15020      f    married        2         0   weekly   \n4115  101819   24   15018      m    married        1         2  monthly   \n4116  103676   50   15005      f  divsepwid        2         6   weekly   \n\n     MORTGAGE  STORECAR  LOANS        RISK  \n0           y         2      0   good risk  \n1           y         1      0    bad loss  \n2           y         2      1   good risk  \n3           y         1      1    bad loss  \n4           y         1      0   good risk  \n...       ...       ...    ...         ...  \n4112        y         1      2  bad profit  \n4113        y         2      2  bad profit  \n4114        y         1      1  bad profit  \n4115        y         1      2  bad profit  \n4116        y         5      3  bad profit  \n\n[4117 rows x 12 columns]",
      "text/html": "<div>\n<style scoped>\n    .dataframe tbody tr th:only-of-type {\n        vertical-align: middle;\n    }\n\n    .dataframe tbody tr th {\n        vertical-align: top;\n    }\n\n    .dataframe thead th {\n        text-align: right;\n    }\n</style>\n<table border=\"1\" class=\"dataframe\">\n  <thead>\n    <tr style=\"text-align: right;\">\n      <th></th>\n      <th>ID</th>\n      <th>AGE</th>\n      <th>INCOME</th>\n      <th>GENDER</th>\n      <th>MARITAL</th>\n      <th>NUMKIDS</th>\n      <th>NUMCARDS</th>\n      <th>HOWPAID</th>\n      <th>MORTGAGE</th>\n      <th>STORECAR</th>\n      <th>LOANS</th>\n      <th>RISK</th>\n    </tr>\n  </thead>\n  <tbody>\n    <tr>\n      <th>0</th>\n      <td>100756</td>\n      <td>44</td>\n      <td>59944</td>\n      <td>m</td>\n      <td>married</td>\n      <td>1</td>\n      <td>2</td>\n      <td>monthly</td>\n      <td>y</td>\n      <td>2</td>\n      <td>0</td>\n      <td>good risk</td>\n    </tr>\n    <tr>\n      <th>1</th>\n      <td>100668</td>\n      <td>35</td>\n      <td>59692</td>\n      <td>m</td>\n      <td>married</td>\n      <td>1</td>\n      <td>1</td>\n      <td>monthly</td>\n      <td>y</td>\n      <td>1</td>\n      <td>0</td>\n      <td>bad loss</td>\n    </tr>\n    <tr>\n      <th>2</th>\n      <td>100418</td>\n      <td>34</td>\n      <td>59508</td>\n      <td>m</td>\n      <td>married</td>\n      <td>1</td>\n      <td>1</td>\n      <td>monthly</td>\n      <td>y</td>\n      <td>2</td>\n      <td>1</td>\n      <td>good risk</td>\n    </tr>\n    <tr>\n      <th>3</th>\n      <td>100416</td>\n      <td>34</td>\n      <td>59463</td>\n      <td>m</td>\n      <td>married</td>\n      <td>0</td>\n      <td>2</td>\n      <td>monthly</td>\n      <td>y</td>\n      <td>1</td>\n      <td>1</td>\n      <td>bad loss</td>\n    </tr>\n    <tr>\n      <th>4</th>\n      <td>100590</td>\n      <td>39</td>\n      <td>59393</td>\n      <td>f</td>\n      <td>married</td>\n      <td>0</td>\n      <td>2</td>\n      <td>monthly</td>\n      <td>y</td>\n      <td>1</td>\n      <td>0</td>\n      <td>good risk</td>\n    </tr>\n    <tr>\n      <th>...</th>\n      <td>...</td>\n      <td>...</td>\n      <td>...</td>\n      <td>...</td>\n      <td>...</td>\n      <td>...</td>\n      <td>...</td>\n      <td>...</td>\n      <td>...</td>\n      <td>...</td>\n      <td>...</td>\n      <td>...</td>\n    </tr>\n    <tr>\n      <th>4112</th>\n      <td>101121</td>\n      <td>20</td>\n      <td>15035</td>\n      <td>m</td>\n      <td>married</td>\n      <td>2</td>\n      <td>2</td>\n      <td>weekly</td>\n      <td>y</td>\n      <td>1</td>\n      <td>2</td>\n      <td>bad profit</td>\n    </tr>\n    <tr>\n      <th>4113</th>\n      <td>101602</td>\n      <td>23</td>\n      <td>15032</td>\n      <td>f</td>\n      <td>married</td>\n      <td>1</td>\n      <td>1</td>\n      <td>monthly</td>\n      <td>y</td>\n      <td>2</td>\n      <td>2</td>\n      <td>bad profit</td>\n    </tr>\n    <tr>\n      <th>4114</th>\n      <td>101983</td>\n      <td>25</td>\n      <td>15020</td>\n      <td>f</td>\n      <td>married</td>\n      <td>2</td>\n      <td>0</td>\n      <td>weekly</td>\n      <td>y</td>\n      <td>1</td>\n      <td>1</td>\n      <td>bad profit</td>\n    </tr>\n    <tr>\n      <th>4115</th>\n      <td>101819</td>\n      <td>24</td>\n      <td>15018</td>\n      <td>m</td>\n      <td>married</td>\n      <td>1</td>\n      <td>2</td>\n      <td>monthly</td>\n      <td>y</td>\n      <td>1</td>\n      <td>2</td>\n      <td>bad profit</td>\n    </tr>\n    <tr>\n      <th>4116</th>\n      <td>103676</td>\n      <td>50</td>\n      <td>15005</td>\n      <td>f</td>\n      <td>divsepwid</td>\n      <td>2</td>\n      <td>6</td>\n      <td>weekly</td>\n      <td>y</td>\n      <td>5</td>\n      <td>3</td>\n      <td>bad profit</td>\n    </tr>\n  </tbody>\n</table>\n<p>4117 rows × 12 columns</p>\n</div>"
     },
     "metadata": {}
    }
   ]
  },
  {
   "cell_type": "code",
   "metadata": {
    "cell_id": "0ec0b896-c0eb-4217-90de-6423a9263eb8",
    "tags": [],
    "deepnote_to_be_reexecuted": false,
    "source_hash": "f88152d9",
    "execution_start": 1646396605683,
    "execution_millis": 38,
    "deepnote_cell_type": "code"
   },
   "source": "df.describe()",
   "execution_count": null,
   "outputs": [
    {
     "output_type": "execute_result",
     "execution_count": 3,
     "data": {
      "application/vnd.deepnote.dataframe.v3+json": {
       "column_count": 7,
       "row_count": 8,
       "columns": [
        {
         "name": "ID",
         "dtype": "float64",
         "stats": {
          "unique_count": 7,
          "nan_count": 0,
          "min": "1188.6198579304767",
          "max": "104117.0",
          "histogram": [
           {
            "bin_start": 1188.6198579304767,
            "bin_end": 11481.45787213743,
            "count": 2
           },
           {
            "bin_start": 11481.45787213743,
            "bin_end": 21774.295886344382,
            "count": 0
           },
           {
            "bin_start": 21774.295886344382,
            "bin_end": 32067.133900551336,
            "count": 0
           },
           {
            "bin_start": 32067.133900551336,
            "bin_end": 42359.97191475829,
            "count": 0
           },
           {
            "bin_start": 42359.97191475829,
            "bin_end": 52652.80992896524,
            "count": 0
           },
           {
            "bin_start": 52652.80992896524,
            "bin_end": 62945.6479431722,
            "count": 0
           },
           {
            "bin_start": 62945.6479431722,
            "bin_end": 73238.48595737915,
            "count": 0
           },
           {
            "bin_start": 73238.48595737915,
            "bin_end": 83531.3239715861,
            "count": 0
           },
           {
            "bin_start": 83531.3239715861,
            "bin_end": 93824.16198579305,
            "count": 0
           },
           {
            "bin_start": 93824.16198579305,
            "bin_end": 104117,
            "count": 6
           }
          ]
         }
        },
        {
         "name": "AGE",
         "dtype": "float64",
         "stats": {
          "unique_count": 8,
          "nan_count": 0,
          "min": "9.876729405168255",
          "max": "4117.0",
          "histogram": [
           {
            "bin_start": 9.876729405168255,
            "bin_end": 420.5890564646514,
            "count": 7
           },
           {
            "bin_start": 420.5890564646514,
            "bin_end": 831.3013835241345,
            "count": 0
           },
           {
            "bin_start": 831.3013835241345,
            "bin_end": 1242.0137105836177,
            "count": 0
           },
           {
            "bin_start": 1242.0137105836177,
            "bin_end": 1652.7260376431009,
            "count": 0
           },
           {
            "bin_start": 1652.7260376431009,
            "bin_end": 2063.438364702584,
            "count": 0
           },
           {
            "bin_start": 2063.438364702584,
            "bin_end": 2474.150691762067,
            "count": 0
           },
           {
            "bin_start": 2474.150691762067,
            "bin_end": 2884.86301882155,
            "count": 0
           },
           {
            "bin_start": 2884.86301882155,
            "bin_end": 3295.575345881033,
            "count": 0
           },
           {
            "bin_start": 3295.575345881033,
            "bin_end": 3706.287672940516,
            "count": 0
           },
           {
            "bin_start": 3706.287672940516,
            "bin_end": 4117,
            "count": 1
           }
          ]
         }
        },
        {
         "name": "INCOME",
         "dtype": "float64",
         "stats": {
          "unique_count": 8,
          "nan_count": 0,
          "min": "4117.0",
          "max": "59944.0",
          "histogram": [
           {
            "bin_start": 4117,
            "bin_end": 9699.7,
            "count": 2
           },
           {
            "bin_start": 9699.7,
            "bin_end": 15282.4,
            "count": 1
           },
           {
            "bin_start": 15282.4,
            "bin_end": 20865.1,
            "count": 1
           },
           {
            "bin_start": 20865.1,
            "bin_end": 26447.8,
            "count": 2
           },
           {
            "bin_start": 26447.8,
            "bin_end": 32030.5,
            "count": 1
           },
           {
            "bin_start": 32030.5,
            "bin_end": 37613.2,
            "count": 0
           },
           {
            "bin_start": 37613.2,
            "bin_end": 43195.9,
            "count": 0
           },
           {
            "bin_start": 43195.9,
            "bin_end": 48778.6,
            "count": 0
           },
           {
            "bin_start": 48778.6,
            "bin_end": 54361.299999999996,
            "count": 0
           },
           {
            "bin_start": 54361.299999999996,
            "bin_end": 59944,
            "count": 1
           }
          ]
         }
        },
        {
         "name": "NUMKIDS",
         "dtype": "float64",
         "stats": {
          "unique_count": 7,
          "nan_count": 0,
          "min": "0.0",
          "max": "4117.0",
          "histogram": [
           {
            "bin_start": 0,
            "bin_end": 411.7,
            "count": 7
           },
           {
            "bin_start": 411.7,
            "bin_end": 823.4,
            "count": 0
           },
           {
            "bin_start": 823.4,
            "bin_end": 1235.1,
            "count": 0
           },
           {
            "bin_start": 1235.1,
            "bin_end": 1646.8,
            "count": 0
           },
           {
            "bin_start": 1646.8,
            "bin_end": 2058.5,
            "count": 0
           },
           {
            "bin_start": 2058.5,
            "bin_end": 2470.2,
            "count": 0
           },
           {
            "bin_start": 2470.2,
            "bin_end": 2881.9,
            "count": 0
           },
           {
            "bin_start": 2881.9,
            "bin_end": 3293.6,
            "count": 0
           },
           {
            "bin_start": 3293.6,
            "bin_end": 3705.2999999999997,
            "count": 0
           },
           {
            "bin_start": 3705.2999999999997,
            "bin_end": 4117,
            "count": 1
           }
          ]
         }
        },
        {
         "name": "NUMCARDS",
         "dtype": "float64",
         "stats": {
          "unique_count": 8,
          "nan_count": 0,
          "min": "0.0",
          "max": "4117.0",
          "histogram": [
           {
            "bin_start": 0,
            "bin_end": 411.7,
            "count": 7
           },
           {
            "bin_start": 411.7,
            "bin_end": 823.4,
            "count": 0
           },
           {
            "bin_start": 823.4,
            "bin_end": 1235.1,
            "count": 0
           },
           {
            "bin_start": 1235.1,
            "bin_end": 1646.8,
            "count": 0
           },
           {
            "bin_start": 1646.8,
            "bin_end": 2058.5,
            "count": 0
           },
           {
            "bin_start": 2058.5,
            "bin_end": 2470.2,
            "count": 0
           },
           {
            "bin_start": 2470.2,
            "bin_end": 2881.9,
            "count": 0
           },
           {
            "bin_start": 2881.9,
            "bin_end": 3293.6,
            "count": 0
           },
           {
            "bin_start": 3293.6,
            "bin_end": 3705.2999999999997,
            "count": 0
           },
           {
            "bin_start": 3705.2999999999997,
            "bin_end": 4117,
            "count": 1
           }
          ]
         }
        },
        {
         "name": "STORECAR",
         "dtype": "float64",
         "stats": {
          "unique_count": 8,
          "nan_count": 0,
          "min": "0.0",
          "max": "4117.0",
          "histogram": [
           {
            "bin_start": 0,
            "bin_end": 411.7,
            "count": 7
           },
           {
            "bin_start": 411.7,
            "bin_end": 823.4,
            "count": 0
           },
           {
            "bin_start": 823.4,
            "bin_end": 1235.1,
            "count": 0
           },
           {
            "bin_start": 1235.1,
            "bin_end": 1646.8,
            "count": 0
           },
           {
            "bin_start": 1646.8,
            "bin_end": 2058.5,
            "count": 0
           },
           {
            "bin_start": 2058.5,
            "bin_end": 2470.2,
            "count": 0
           },
           {
            "bin_start": 2470.2,
            "bin_end": 2881.9,
            "count": 0
           },
           {
            "bin_start": 2881.9,
            "bin_end": 3293.6,
            "count": 0
           },
           {
            "bin_start": 3293.6,
            "bin_end": 3705.2999999999997,
            "count": 0
           },
           {
            "bin_start": 3705.2999999999997,
            "bin_end": 4117,
            "count": 1
           }
          ]
         }
        },
        {
         "name": "LOANS",
         "dtype": "float64",
         "stats": {
          "unique_count": 7,
          "nan_count": 0,
          "min": "0.0",
          "max": "4117.0",
          "histogram": [
           {
            "bin_start": 0,
            "bin_end": 411.7,
            "count": 7
           },
           {
            "bin_start": 411.7,
            "bin_end": 823.4,
            "count": 0
           },
           {
            "bin_start": 823.4,
            "bin_end": 1235.1,
            "count": 0
           },
           {
            "bin_start": 1235.1,
            "bin_end": 1646.8,
            "count": 0
           },
           {
            "bin_start": 1646.8,
            "bin_end": 2058.5,
            "count": 0
           },
           {
            "bin_start": 2058.5,
            "bin_end": 2470.2,
            "count": 0
           },
           {
            "bin_start": 2470.2,
            "bin_end": 2881.9,
            "count": 0
           },
           {
            "bin_start": 2881.9,
            "bin_end": 3293.6,
            "count": 0
           },
           {
            "bin_start": 3293.6,
            "bin_end": 3705.2999999999997,
            "count": 0
           },
           {
            "bin_start": 3705.2999999999997,
            "bin_end": 4117,
            "count": 1
           }
          ]
         }
        },
        {
         "name": "_deepnote_index_column",
         "dtype": "object"
        }
       ],
       "rows": [
        {
         "ID": 4117,
         "AGE": 4117,
         "INCOME": 4117,
         "NUMKIDS": 4117,
         "NUMCARDS": 4117,
         "STORECAR": 4117,
         "LOANS": 4117,
         "_deepnote_index_column": "count"
        },
        {
         "ID": 102059,
         "AGE": 31.819528783094487,
         "INCOME": 25580.21180471217,
         "NUMKIDS": 1.452513966480447,
         "NUMCARDS": 2.429438911829002,
         "STORECAR": 2.515909642943891,
         "LOANS": 1.3757590478503765,
         "_deepnote_index_column": "mean"
        },
        {
         "ID": 1188.6198579304767,
         "AGE": 9.876729405168255,
         "INCOME": 8766.867218973288,
         "NUMKIDS": 1.1705785949478904,
         "NUMCARDS": 1.8807210744641296,
         "STORECAR": 1.3527684530105073,
         "LOANS": 0.8381832755112747,
         "_deepnote_index_column": "std"
        },
        {
         "ID": 100001,
         "AGE": 18,
         "INCOME": 15005,
         "NUMKIDS": 0,
         "NUMCARDS": 0,
         "STORECAR": 0,
         "LOANS": 0,
         "_deepnote_index_column": "min"
        },
        {
         "ID": 101030,
         "AGE": 23,
         "INCOME": 20497,
         "NUMKIDS": 1,
         "NUMCARDS": 1,
         "STORECAR": 1,
         "LOANS": 1,
         "_deepnote_index_column": "25%"
        },
        {
         "ID": 102059,
         "AGE": 31,
         "INCOME": 23490,
         "NUMKIDS": 1,
         "NUMCARDS": 2,
         "STORECAR": 2,
         "LOANS": 1,
         "_deepnote_index_column": "50%"
        },
        {
         "ID": 103088,
         "AGE": 41,
         "INCOME": 27566,
         "NUMKIDS": 2,
         "NUMCARDS": 4,
         "STORECAR": 3,
         "LOANS": 2,
         "_deepnote_index_column": "75%"
        },
        {
         "ID": 104117,
         "AGE": 50,
         "INCOME": 59944,
         "NUMKIDS": 4,
         "NUMCARDS": 6,
         "STORECAR": 5,
         "LOANS": 3,
         "_deepnote_index_column": "max"
        }
       ]
      },
      "text/plain": "                  ID          AGE        INCOME      NUMKIDS     NUMCARDS  \\\ncount    4117.000000  4117.000000   4117.000000  4117.000000  4117.000000   \nmean   102059.000000    31.819529  25580.211805     1.452514     2.429439   \nstd      1188.619858     9.876729   8766.867219     1.170579     1.880721   \nmin    100001.000000    18.000000  15005.000000     0.000000     0.000000   \n25%    101030.000000    23.000000  20497.000000     1.000000     1.000000   \n50%    102059.000000    31.000000  23490.000000     1.000000     2.000000   \n75%    103088.000000    41.000000  27566.000000     2.000000     4.000000   \nmax    104117.000000    50.000000  59944.000000     4.000000     6.000000   \n\n          STORECAR        LOANS  \ncount  4117.000000  4117.000000  \nmean      2.515910     1.375759  \nstd       1.352768     0.838183  \nmin       0.000000     0.000000  \n25%       1.000000     1.000000  \n50%       2.000000     1.000000  \n75%       3.000000     2.000000  \nmax       5.000000     3.000000  ",
      "text/html": "<div>\n<style scoped>\n    .dataframe tbody tr th:only-of-type {\n        vertical-align: middle;\n    }\n\n    .dataframe tbody tr th {\n        vertical-align: top;\n    }\n\n    .dataframe thead th {\n        text-align: right;\n    }\n</style>\n<table border=\"1\" class=\"dataframe\">\n  <thead>\n    <tr style=\"text-align: right;\">\n      <th></th>\n      <th>ID</th>\n      <th>AGE</th>\n      <th>INCOME</th>\n      <th>NUMKIDS</th>\n      <th>NUMCARDS</th>\n      <th>STORECAR</th>\n      <th>LOANS</th>\n    </tr>\n  </thead>\n  <tbody>\n    <tr>\n      <th>count</th>\n      <td>4117.000000</td>\n      <td>4117.000000</td>\n      <td>4117.000000</td>\n      <td>4117.000000</td>\n      <td>4117.000000</td>\n      <td>4117.000000</td>\n      <td>4117.000000</td>\n    </tr>\n    <tr>\n      <th>mean</th>\n      <td>102059.000000</td>\n      <td>31.819529</td>\n      <td>25580.211805</td>\n      <td>1.452514</td>\n      <td>2.429439</td>\n      <td>2.515910</td>\n      <td>1.375759</td>\n    </tr>\n    <tr>\n      <th>std</th>\n      <td>1188.619858</td>\n      <td>9.876729</td>\n      <td>8766.867219</td>\n      <td>1.170579</td>\n      <td>1.880721</td>\n      <td>1.352768</td>\n      <td>0.838183</td>\n    </tr>\n    <tr>\n      <th>min</th>\n      <td>100001.000000</td>\n      <td>18.000000</td>\n      <td>15005.000000</td>\n      <td>0.000000</td>\n      <td>0.000000</td>\n      <td>0.000000</td>\n      <td>0.000000</td>\n    </tr>\n    <tr>\n      <th>25%</th>\n      <td>101030.000000</td>\n      <td>23.000000</td>\n      <td>20497.000000</td>\n      <td>1.000000</td>\n      <td>1.000000</td>\n      <td>1.000000</td>\n      <td>1.000000</td>\n    </tr>\n    <tr>\n      <th>50%</th>\n      <td>102059.000000</td>\n      <td>31.000000</td>\n      <td>23490.000000</td>\n      <td>1.000000</td>\n      <td>2.000000</td>\n      <td>2.000000</td>\n      <td>1.000000</td>\n    </tr>\n    <tr>\n      <th>75%</th>\n      <td>103088.000000</td>\n      <td>41.000000</td>\n      <td>27566.000000</td>\n      <td>2.000000</td>\n      <td>4.000000</td>\n      <td>3.000000</td>\n      <td>2.000000</td>\n    </tr>\n    <tr>\n      <th>max</th>\n      <td>104117.000000</td>\n      <td>50.000000</td>\n      <td>59944.000000</td>\n      <td>4.000000</td>\n      <td>6.000000</td>\n      <td>5.000000</td>\n      <td>3.000000</td>\n    </tr>\n  </tbody>\n</table>\n</div>"
     },
     "metadata": {}
    }
   ]
  },
  {
   "cell_type": "code",
   "source": "",
   "metadata": {
    "cell_id": "a37683f9-0370-4c55-89e4-08862efa552b",
    "deepnote_cell_type": "visualization"
   },
   "execution_count": null,
   "outputs": []
  },
  {
   "cell_type": "markdown",
   "source": "## Data prep",
   "metadata": {
    "id": "1jsC900oE-qI",
    "cell_id": "00004-e8fda4e8-7bd8-4823-bd8b-759e2213d63e",
    "deepnote_cell_type": "markdown"
   }
  },
  {
   "cell_type": "code",
   "metadata": {
    "id": "qpkjvMp5FDGj",
    "colab": {
     "base_uri": "https://localhost:8080/",
     "height": 417
    },
    "outputId": "7bed8616-9e90-47c4-9696-05fa7537e8b6",
    "cell_id": "00005-895e83fe-c77b-45a6-87e7-67c770df521b",
    "deepnote_to_be_reexecuted": false,
    "source_hash": "c04ccede",
    "execution_start": 1646396605726,
    "execution_millis": 64,
    "deepnote_table_state": {
     "pageSize": 10,
     "pageIndex": 11,
     "filters": [],
     "sortBy": []
    },
    "deepnote_table_loading": false,
    "deepnote_cell_type": "code"
   },
   "source": "target = df.RISK.astype('category').cat.codes\n\ninput = df.drop(['ID', 'RISK'], axis='columns')\ninput.INCOME = pd.cut(input.INCOME, bins=[15000, 20000, 24000, 30000, 42000, 60000], labels=False)\ninput.AGE = pd.cut(input.AGE, bins=[17, 21, 31, 41, 51], labels=False)\ninput.NUMKIDS = pd.cut(input.NUMKIDS, bins=[-1,0,1,5 ], labels=False) \ninput.NUMCARDS = pd.cut(input.NUMCARDS, bins=[-1,1,2,7 ], labels=False) \ninput.STORECAR = pd.cut(input.STORECAR, bins=[-1,1,2,3,6 ], labels=False)\ninput.LOANS = pd.cut(input.LOANS, bins=[-1,0,1,6 ], labels=False)\ninput = pd.get_dummies(input, columns=['GENDER', 'MARITAL', 'HOWPAID', 'MORTGAGE'], drop_first=True)\ninput",
   "execution_count": null,
   "outputs": [
    {
     "output_type": "execute_result",
     "execution_count": 4,
     "data": {
      "application/vnd.deepnote.dataframe.v3+json": {
       "column_count": 11,
       "row_count": 4117,
       "columns": [
        {
         "name": "AGE",
         "dtype": "int64",
         "stats": {
          "unique_count": 4,
          "nan_count": 0,
          "min": "0",
          "max": "3",
          "histogram": [
           {
            "bin_start": 0,
            "bin_end": 0.3,
            "count": 735
           },
           {
            "bin_start": 0.3,
            "bin_end": 0.6,
            "count": 0
           },
           {
            "bin_start": 0.6,
            "bin_end": 0.8999999999999999,
            "count": 0
           },
           {
            "bin_start": 0.8999999999999999,
            "bin_end": 1.2,
            "count": 1401
           },
           {
            "bin_start": 1.2,
            "bin_end": 1.5,
            "count": 0
           },
           {
            "bin_start": 1.5,
            "bin_end": 1.7999999999999998,
            "count": 0
           },
           {
            "bin_start": 1.7999999999999998,
            "bin_end": 2.1,
            "count": 1016
           },
           {
            "bin_start": 2.1,
            "bin_end": 2.4,
            "count": 0
           },
           {
            "bin_start": 2.4,
            "bin_end": 2.6999999999999997,
            "count": 0
           },
           {
            "bin_start": 2.6999999999999997,
            "bin_end": 3,
            "count": 965
           }
          ]
         }
        },
        {
         "name": "INCOME",
         "dtype": "int64",
         "stats": {
          "unique_count": 5,
          "nan_count": 0,
          "min": "0",
          "max": "4",
          "histogram": [
           {
            "bin_start": 0,
            "bin_end": 0.4,
            "count": 870
           },
           {
            "bin_start": 0.4,
            "bin_end": 0.8,
            "count": 0
           },
           {
            "bin_start": 0.8,
            "bin_end": 1.2000000000000002,
            "count": 1437
           },
           {
            "bin_start": 1.2000000000000002,
            "bin_end": 1.6,
            "count": 0
           },
           {
            "bin_start": 1.6,
            "bin_end": 2,
            "count": 0
           },
           {
            "bin_start": 2,
            "bin_end": 2.4000000000000004,
            "count": 1133
           },
           {
            "bin_start": 2.4000000000000004,
            "bin_end": 2.8000000000000003,
            "count": 0
           },
           {
            "bin_start": 2.8000000000000003,
            "bin_end": 3.2,
            "count": 312
           },
           {
            "bin_start": 3.2,
            "bin_end": 3.6,
            "count": 0
           },
           {
            "bin_start": 3.6,
            "bin_end": 4,
            "count": 365
           }
          ]
         }
        },
        {
         "name": "NUMKIDS",
         "dtype": "int64",
         "stats": {
          "unique_count": 3,
          "nan_count": 0,
          "min": "0",
          "max": "2",
          "histogram": [
           {
            "bin_start": 0,
            "bin_end": 0.2,
            "count": 981
           },
           {
            "bin_start": 0.2,
            "bin_end": 0.4,
            "count": 0
           },
           {
            "bin_start": 0.4,
            "bin_end": 0.6000000000000001,
            "count": 0
           },
           {
            "bin_start": 0.6000000000000001,
            "bin_end": 0.8,
            "count": 0
           },
           {
            "bin_start": 0.8,
            "bin_end": 1,
            "count": 0
           },
           {
            "bin_start": 1,
            "bin_end": 1.2000000000000002,
            "count": 1329
           },
           {
            "bin_start": 1.2000000000000002,
            "bin_end": 1.4000000000000001,
            "count": 0
           },
           {
            "bin_start": 1.4000000000000001,
            "bin_end": 1.6,
            "count": 0
           },
           {
            "bin_start": 1.6,
            "bin_end": 1.8,
            "count": 0
           },
           {
            "bin_start": 1.8,
            "bin_end": 2,
            "count": 1807
           }
          ]
         }
        },
        {
         "name": "NUMCARDS",
         "dtype": "int64",
         "stats": {
          "unique_count": 3,
          "nan_count": 0,
          "min": "0",
          "max": "2",
          "histogram": [
           {
            "bin_start": 0,
            "bin_end": 0.2,
            "count": 1608
           },
           {
            "bin_start": 0.2,
            "bin_end": 0.4,
            "count": 0
           },
           {
            "bin_start": 0.4,
            "bin_end": 0.6000000000000001,
            "count": 0
           },
           {
            "bin_start": 0.6000000000000001,
            "bin_end": 0.8,
            "count": 0
           },
           {
            "bin_start": 0.8,
            "bin_end": 1,
            "count": 0
           },
           {
            "bin_start": 1,
            "bin_end": 1.2000000000000002,
            "count": 969
           },
           {
            "bin_start": 1.2000000000000002,
            "bin_end": 1.4000000000000001,
            "count": 0
           },
           {
            "bin_start": 1.4000000000000001,
            "bin_end": 1.6,
            "count": 0
           },
           {
            "bin_start": 1.6,
            "bin_end": 1.8,
            "count": 0
           },
           {
            "bin_start": 1.8,
            "bin_end": 2,
            "count": 1540
           }
          ]
         }
        },
        {
         "name": "STORECAR",
         "dtype": "int64",
         "stats": {
          "unique_count": 4,
          "nan_count": 0,
          "min": "0",
          "max": "3",
          "histogram": [
           {
            "bin_start": 0,
            "bin_end": 0.3,
            "count": 1153
           },
           {
            "bin_start": 0.3,
            "bin_end": 0.6,
            "count": 0
           },
           {
            "bin_start": 0.6,
            "bin_end": 0.8999999999999999,
            "count": 0
           },
           {
            "bin_start": 0.8999999999999999,
            "bin_end": 1.2,
            "count": 1042
           },
           {
            "bin_start": 1.2,
            "bin_end": 1.5,
            "count": 0
           },
           {
            "bin_start": 1.5,
            "bin_end": 1.7999999999999998,
            "count": 0
           },
           {
            "bin_start": 1.7999999999999998,
            "bin_end": 2.1,
            "count": 955
           },
           {
            "bin_start": 2.1,
            "bin_end": 2.4,
            "count": 0
           },
           {
            "bin_start": 2.4,
            "bin_end": 2.6999999999999997,
            "count": 0
           },
           {
            "bin_start": 2.6999999999999997,
            "bin_end": 3,
            "count": 967
           }
          ]
         }
        },
        {
         "name": "LOANS",
         "dtype": "int64",
         "stats": {
          "unique_count": 3,
          "nan_count": 0,
          "min": "0",
          "max": "2",
          "histogram": [
           {
            "bin_start": 0,
            "bin_end": 0.2,
            "count": 528
           },
           {
            "bin_start": 0.2,
            "bin_end": 0.4,
            "count": 0
           },
           {
            "bin_start": 0.4,
            "bin_end": 0.6000000000000001,
            "count": 0
           },
           {
            "bin_start": 0.6000000000000001,
            "bin_end": 0.8,
            "count": 0
           },
           {
            "bin_start": 0.8,
            "bin_end": 1,
            "count": 0
           },
           {
            "bin_start": 1,
            "bin_end": 1.2000000000000002,
            "count": 1949
           },
           {
            "bin_start": 1.2000000000000002,
            "bin_end": 1.4000000000000001,
            "count": 0
           },
           {
            "bin_start": 1.4000000000000001,
            "bin_end": 1.6,
            "count": 0
           },
           {
            "bin_start": 1.6,
            "bin_end": 1.8,
            "count": 0
           },
           {
            "bin_start": 1.8,
            "bin_end": 2,
            "count": 1640
           }
          ]
         }
        },
        {
         "name": "GENDER_m",
         "dtype": "uint8",
         "stats": {
          "unique_count": 2,
          "nan_count": 0,
          "min": "0",
          "max": "1",
          "histogram": [
           {
            "bin_start": 0,
            "bin_end": 0.1,
            "count": 2077
           },
           {
            "bin_start": 0.1,
            "bin_end": 0.2,
            "count": 0
           },
           {
            "bin_start": 0.2,
            "bin_end": 0.30000000000000004,
            "count": 0
           },
           {
            "bin_start": 0.30000000000000004,
            "bin_end": 0.4,
            "count": 0
           },
           {
            "bin_start": 0.4,
            "bin_end": 0.5,
            "count": 0
           },
           {
            "bin_start": 0.5,
            "bin_end": 0.6000000000000001,
            "count": 0
           },
           {
            "bin_start": 0.6000000000000001,
            "bin_end": 0.7000000000000001,
            "count": 0
           },
           {
            "bin_start": 0.7000000000000001,
            "bin_end": 0.8,
            "count": 0
           },
           {
            "bin_start": 0.8,
            "bin_end": 0.9,
            "count": 0
           },
           {
            "bin_start": 0.9,
            "bin_end": 1,
            "count": 2040
           }
          ]
         }
        },
        {
         "name": "MARITAL_married",
         "dtype": "uint8",
         "stats": {
          "unique_count": 2,
          "nan_count": 0,
          "min": "0",
          "max": "1",
          "histogram": [
           {
            "bin_start": 0,
            "bin_end": 0.1,
            "count": 2028
           },
           {
            "bin_start": 0.1,
            "bin_end": 0.2,
            "count": 0
           },
           {
            "bin_start": 0.2,
            "bin_end": 0.30000000000000004,
            "count": 0
           },
           {
            "bin_start": 0.30000000000000004,
            "bin_end": 0.4,
            "count": 0
           },
           {
            "bin_start": 0.4,
            "bin_end": 0.5,
            "count": 0
           },
           {
            "bin_start": 0.5,
            "bin_end": 0.6000000000000001,
            "count": 0
           },
           {
            "bin_start": 0.6000000000000001,
            "bin_end": 0.7000000000000001,
            "count": 0
           },
           {
            "bin_start": 0.7000000000000001,
            "bin_end": 0.8,
            "count": 0
           },
           {
            "bin_start": 0.8,
            "bin_end": 0.9,
            "count": 0
           },
           {
            "bin_start": 0.9,
            "bin_end": 1,
            "count": 2089
           }
          ]
         }
        },
        {
         "name": "MARITAL_single",
         "dtype": "uint8",
         "stats": {
          "unique_count": 2,
          "nan_count": 0,
          "min": "0",
          "max": "1",
          "histogram": [
           {
            "bin_start": 0,
            "bin_end": 0.1,
            "count": 2962
           },
           {
            "bin_start": 0.1,
            "bin_end": 0.2,
            "count": 0
           },
           {
            "bin_start": 0.2,
            "bin_end": 0.30000000000000004,
            "count": 0
           },
           {
            "bin_start": 0.30000000000000004,
            "bin_end": 0.4,
            "count": 0
           },
           {
            "bin_start": 0.4,
            "bin_end": 0.5,
            "count": 0
           },
           {
            "bin_start": 0.5,
            "bin_end": 0.6000000000000001,
            "count": 0
           },
           {
            "bin_start": 0.6000000000000001,
            "bin_end": 0.7000000000000001,
            "count": 0
           },
           {
            "bin_start": 0.7000000000000001,
            "bin_end": 0.8,
            "count": 0
           },
           {
            "bin_start": 0.8,
            "bin_end": 0.9,
            "count": 0
           },
           {
            "bin_start": 0.9,
            "bin_end": 1,
            "count": 1155
           }
          ]
         }
        },
        {
         "name": "HOWPAID_weekly",
         "dtype": "uint8",
         "stats": {
          "unique_count": 2,
          "nan_count": 0,
          "min": "0",
          "max": "1",
          "histogram": [
           {
            "bin_start": 0,
            "bin_end": 0.1,
            "count": 2026
           },
           {
            "bin_start": 0.1,
            "bin_end": 0.2,
            "count": 0
           },
           {
            "bin_start": 0.2,
            "bin_end": 0.30000000000000004,
            "count": 0
           },
           {
            "bin_start": 0.30000000000000004,
            "bin_end": 0.4,
            "count": 0
           },
           {
            "bin_start": 0.4,
            "bin_end": 0.5,
            "count": 0
           },
           {
            "bin_start": 0.5,
            "bin_end": 0.6000000000000001,
            "count": 0
           },
           {
            "bin_start": 0.6000000000000001,
            "bin_end": 0.7000000000000001,
            "count": 0
           },
           {
            "bin_start": 0.7000000000000001,
            "bin_end": 0.8,
            "count": 0
           },
           {
            "bin_start": 0.8,
            "bin_end": 0.9,
            "count": 0
           },
           {
            "bin_start": 0.9,
            "bin_end": 1,
            "count": 2091
           }
          ]
         }
        },
        {
         "name": "MORTGAGE_y",
         "dtype": "uint8",
         "stats": {
          "unique_count": 2,
          "nan_count": 0,
          "min": "0",
          "max": "1",
          "histogram": [
           {
            "bin_start": 0,
            "bin_end": 0.1,
            "count": 917
           },
           {
            "bin_start": 0.1,
            "bin_end": 0.2,
            "count": 0
           },
           {
            "bin_start": 0.2,
            "bin_end": 0.30000000000000004,
            "count": 0
           },
           {
            "bin_start": 0.30000000000000004,
            "bin_end": 0.4,
            "count": 0
           },
           {
            "bin_start": 0.4,
            "bin_end": 0.5,
            "count": 0
           },
           {
            "bin_start": 0.5,
            "bin_end": 0.6000000000000001,
            "count": 0
           },
           {
            "bin_start": 0.6000000000000001,
            "bin_end": 0.7000000000000001,
            "count": 0
           },
           {
            "bin_start": 0.7000000000000001,
            "bin_end": 0.8,
            "count": 0
           },
           {
            "bin_start": 0.8,
            "bin_end": 0.9,
            "count": 0
           },
           {
            "bin_start": 0.9,
            "bin_end": 1,
            "count": 3200
           }
          ]
         }
        },
        {
         "name": "_deepnote_index_column",
         "dtype": "int64"
        }
       ],
       "rows": [
        {
         "AGE": 2,
         "INCOME": 4,
         "NUMKIDS": 0,
         "NUMCARDS": 1,
         "STORECAR": 0,
         "LOANS": 0,
         "GENDER_m": 1,
         "MARITAL_married": 1,
         "MARITAL_single": 0,
         "HOWPAID_weekly": 0,
         "MORTGAGE_y": 1,
         "_deepnote_index_column": 110
        },
        {
         "AGE": 2,
         "INCOME": 4,
         "NUMKIDS": 1,
         "NUMCARDS": 1,
         "STORECAR": 1,
         "LOANS": 1,
         "GENDER_m": 1,
         "MARITAL_married": 1,
         "MARITAL_single": 0,
         "HOWPAID_weekly": 0,
         "MORTGAGE_y": 1,
         "_deepnote_index_column": 111
        },
        {
         "AGE": 2,
         "INCOME": 4,
         "NUMKIDS": 1,
         "NUMCARDS": 0,
         "STORECAR": 1,
         "LOANS": 0,
         "GENDER_m": 0,
         "MARITAL_married": 1,
         "MARITAL_single": 0,
         "HOWPAID_weekly": 0,
         "MORTGAGE_y": 1,
         "_deepnote_index_column": 112
        },
        {
         "AGE": 3,
         "INCOME": 4,
         "NUMKIDS": 1,
         "NUMCARDS": 0,
         "STORECAR": 0,
         "LOANS": 1,
         "GENDER_m": 1,
         "MARITAL_married": 1,
         "MARITAL_single": 0,
         "HOWPAID_weekly": 0,
         "MORTGAGE_y": 1,
         "_deepnote_index_column": 113
        },
        {
         "AGE": 2,
         "INCOME": 4,
         "NUMKIDS": 0,
         "NUMCARDS": 0,
         "STORECAR": 0,
         "LOANS": 0,
         "GENDER_m": 1,
         "MARITAL_married": 1,
         "MARITAL_single": 0,
         "HOWPAID_weekly": 0,
         "MORTGAGE_y": 1,
         "_deepnote_index_column": 114
        },
        {
         "AGE": 2,
         "INCOME": 4,
         "NUMKIDS": 1,
         "NUMCARDS": 1,
         "STORECAR": 0,
         "LOANS": 1,
         "GENDER_m": 1,
         "MARITAL_married": 1,
         "MARITAL_single": 0,
         "HOWPAID_weekly": 0,
         "MORTGAGE_y": 1,
         "_deepnote_index_column": 115
        },
        {
         "AGE": 2,
         "INCOME": 4,
         "NUMKIDS": 1,
         "NUMCARDS": 1,
         "STORECAR": 0,
         "LOANS": 0,
         "GENDER_m": 1,
         "MARITAL_married": 1,
         "MARITAL_single": 0,
         "HOWPAID_weekly": 0,
         "MORTGAGE_y": 1,
         "_deepnote_index_column": 116
        },
        {
         "AGE": 2,
         "INCOME": 4,
         "NUMKIDS": 1,
         "NUMCARDS": 1,
         "STORECAR": 0,
         "LOANS": 0,
         "GENDER_m": 1,
         "MARITAL_married": 1,
         "MARITAL_single": 0,
         "HOWPAID_weekly": 0,
         "MORTGAGE_y": 1,
         "_deepnote_index_column": 117
        },
        {
         "AGE": 2,
         "INCOME": 4,
         "NUMKIDS": 1,
         "NUMCARDS": 1,
         "STORECAR": 1,
         "LOANS": 0,
         "GENDER_m": 0,
         "MARITAL_married": 1,
         "MARITAL_single": 0,
         "HOWPAID_weekly": 0,
         "MORTGAGE_y": 1,
         "_deepnote_index_column": 118
        },
        {
         "AGE": 2,
         "INCOME": 4,
         "NUMKIDS": 1,
         "NUMCARDS": 0,
         "STORECAR": 0,
         "LOANS": 0,
         "GENDER_m": 1,
         "MARITAL_married": 1,
         "MARITAL_single": 0,
         "HOWPAID_weekly": 0,
         "MORTGAGE_y": 1,
         "_deepnote_index_column": 119
        }
       ]
      },
      "text/plain": "      AGE  INCOME  NUMKIDS  NUMCARDS  STORECAR  LOANS  GENDER_m  \\\n0       3       4        1         1         1      0         1   \n1       2       4        1         0         0      0         1   \n2       2       4        1         0         1      1         1   \n3       2       4        0         1         0      1         1   \n4       2       4        0         1         0      0         0   \n...   ...     ...      ...       ...       ...    ...       ...   \n4112    0       0        2         1         0      2         1   \n4113    1       0        1         0         1      2         0   \n4114    1       0        2         0         0      1         0   \n4115    1       0        1         1         0      2         1   \n4116    3       0        2         2         3      2         0   \n\n      MARITAL_married  MARITAL_single  HOWPAID_weekly  MORTGAGE_y  \n0                   1               0               0           1  \n1                   1               0               0           1  \n2                   1               0               0           1  \n3                   1               0               0           1  \n4                   1               0               0           1  \n...               ...             ...             ...         ...  \n4112                1               0               1           1  \n4113                1               0               0           1  \n4114                1               0               1           1  \n4115                1               0               0           1  \n4116                0               0               1           1  \n\n[4117 rows x 11 columns]",
      "text/html": "<div>\n<style scoped>\n    .dataframe tbody tr th:only-of-type {\n        vertical-align: middle;\n    }\n\n    .dataframe tbody tr th {\n        vertical-align: top;\n    }\n\n    .dataframe thead th {\n        text-align: right;\n    }\n</style>\n<table border=\"1\" class=\"dataframe\">\n  <thead>\n    <tr style=\"text-align: right;\">\n      <th></th>\n      <th>AGE</th>\n      <th>INCOME</th>\n      <th>NUMKIDS</th>\n      <th>NUMCARDS</th>\n      <th>STORECAR</th>\n      <th>LOANS</th>\n      <th>GENDER_m</th>\n      <th>MARITAL_married</th>\n      <th>MARITAL_single</th>\n      <th>HOWPAID_weekly</th>\n      <th>MORTGAGE_y</th>\n    </tr>\n  </thead>\n  <tbody>\n    <tr>\n      <th>0</th>\n      <td>3</td>\n      <td>4</td>\n      <td>1</td>\n      <td>1</td>\n      <td>1</td>\n      <td>0</td>\n      <td>1</td>\n      <td>1</td>\n      <td>0</td>\n      <td>0</td>\n      <td>1</td>\n    </tr>\n    <tr>\n      <th>1</th>\n      <td>2</td>\n      <td>4</td>\n      <td>1</td>\n      <td>0</td>\n      <td>0</td>\n      <td>0</td>\n      <td>1</td>\n      <td>1</td>\n      <td>0</td>\n      <td>0</td>\n      <td>1</td>\n    </tr>\n    <tr>\n      <th>2</th>\n      <td>2</td>\n      <td>4</td>\n      <td>1</td>\n      <td>0</td>\n      <td>1</td>\n      <td>1</td>\n      <td>1</td>\n      <td>1</td>\n      <td>0</td>\n      <td>0</td>\n      <td>1</td>\n    </tr>\n    <tr>\n      <th>3</th>\n      <td>2</td>\n      <td>4</td>\n      <td>0</td>\n      <td>1</td>\n      <td>0</td>\n      <td>1</td>\n      <td>1</td>\n      <td>1</td>\n      <td>0</td>\n      <td>0</td>\n      <td>1</td>\n    </tr>\n    <tr>\n      <th>4</th>\n      <td>2</td>\n      <td>4</td>\n      <td>0</td>\n      <td>1</td>\n      <td>0</td>\n      <td>0</td>\n      <td>0</td>\n      <td>1</td>\n      <td>0</td>\n      <td>0</td>\n      <td>1</td>\n    </tr>\n    <tr>\n      <th>...</th>\n      <td>...</td>\n      <td>...</td>\n      <td>...</td>\n      <td>...</td>\n      <td>...</td>\n      <td>...</td>\n      <td>...</td>\n      <td>...</td>\n      <td>...</td>\n      <td>...</td>\n      <td>...</td>\n    </tr>\n    <tr>\n      <th>4112</th>\n      <td>0</td>\n      <td>0</td>\n      <td>2</td>\n      <td>1</td>\n      <td>0</td>\n      <td>2</td>\n      <td>1</td>\n      <td>1</td>\n      <td>0</td>\n      <td>1</td>\n      <td>1</td>\n    </tr>\n    <tr>\n      <th>4113</th>\n      <td>1</td>\n      <td>0</td>\n      <td>1</td>\n      <td>0</td>\n      <td>1</td>\n      <td>2</td>\n      <td>0</td>\n      <td>1</td>\n      <td>0</td>\n      <td>0</td>\n      <td>1</td>\n    </tr>\n    <tr>\n      <th>4114</th>\n      <td>1</td>\n      <td>0</td>\n      <td>2</td>\n      <td>0</td>\n      <td>0</td>\n      <td>1</td>\n      <td>0</td>\n      <td>1</td>\n      <td>0</td>\n      <td>1</td>\n      <td>1</td>\n    </tr>\n    <tr>\n      <th>4115</th>\n      <td>1</td>\n      <td>0</td>\n      <td>1</td>\n      <td>1</td>\n      <td>0</td>\n      <td>2</td>\n      <td>1</td>\n      <td>1</td>\n      <td>0</td>\n      <td>0</td>\n      <td>1</td>\n    </tr>\n    <tr>\n      <th>4116</th>\n      <td>3</td>\n      <td>0</td>\n      <td>2</td>\n      <td>2</td>\n      <td>3</td>\n      <td>2</td>\n      <td>0</td>\n      <td>0</td>\n      <td>0</td>\n      <td>1</td>\n      <td>1</td>\n    </tr>\n  </tbody>\n</table>\n<p>4117 rows × 11 columns</p>\n</div>"
     },
     "metadata": {}
    }
   ]
  },
  {
   "cell_type": "markdown",
   "source": "### Feature selection test",
   "metadata": {
    "cell_id": "86c3a169-e4d0-468f-beb0-1b3defd630d5",
    "tags": [],
    "deepnote_cell_type": "markdown"
   }
  },
  {
   "cell_type": "code",
   "metadata": {
    "cell_id": "62ed53a6-de68-48ee-ab43-49401d4aac9b",
    "tags": [],
    "deepnote_to_be_reexecuted": false,
    "source_hash": "9cb76f40",
    "execution_start": 1646396605791,
    "execution_millis": 8946,
    "deepnote_cell_type": "code"
   },
   "source": "score_sums = dict()\n\nfor i in range(20):\n    for column in list(input):\n        X_train, X_test, y_train, y_test = train_test_split(input.drop(column, axis='columns'), target, test_size=0.2)\n        knn = KNeighborsClassifier(n_neighbors=3)\n        knn.fit(X_train,y_train)\n        score = knn.score(X_test,y_test)\n\n        try:\n            score_sums[column] += score\n        except KeyError:\n            score_sums[column] = score\n\nscores = sorted([ (score_sums[column] / 20, column) for column in list(input) ], key=lambda v:v[0], reverse=True)\n\n# score of model with respective columns dropped\n# appears to be random!?\nscores \n\n# STORECAR, GENDER_m, AGE, HOWPAID_weekly",
   "execution_count": null,
   "outputs": [
    {
     "output_type": "execute_result",
     "execution_count": 5,
     "data": {
      "text/plain": "[(0.7023665048543688, 'GENDER_m'),\n (0.7001213592233012, 'LOANS'),\n (0.7000000000000001, 'MORTGAGE_y'),\n (0.6994538834951456, 'HOWPAID_weekly'),\n (0.6987864077669903, 'AGE'),\n (0.6985436893203884, 'STORECAR'),\n (0.6958131067961166, 'MARITAL_single'),\n (0.6950242718446601, 'NUMCARDS'),\n (0.6945995145631069, 'NUMKIDS'),\n (0.6913228155339806, 'INCOME'),\n (0.6910194174757281, 'MARITAL_married')]"
     },
     "metadata": {}
    }
   ]
  },
  {
   "cell_type": "markdown",
   "source": "### With a validation set",
   "metadata": {
    "cell_id": "dbec72ef-5403-45e4-b0dd-c2cec301421f",
    "tags": [],
    "deepnote_cell_type": "markdown"
   }
  },
  {
   "cell_type": "code",
   "metadata": {
    "cell_id": "87c41d9f-eb17-4f6c-b5dc-49740869ea3e",
    "tags": [],
    "deepnote_to_be_reexecuted": false,
    "source_hash": "1ffc2f27",
    "execution_start": 1646396614501,
    "execution_millis": 1856,
    "deepnote_cell_type": "code"
   },
   "source": "# 60-20-20\ntrain_ratio = 0.6\nvalidation_ratio = 0.2\ntest_ratio = 0.2\n\nX_train, X_test, y_train, y_test = train_test_split(input, target, test_size=1 - train_ratio)\nX_val, X_test, y_val, y_test = train_test_split(X_test, y_test, test_size=test_ratio/(test_ratio + validation_ratio)) \n\n### testing n_neighbors param, as an example\n\n# use validation or training set!?\nparam_range = (2, 3, 4, 5)\ntrain_score, val_score = validation_curve(KNeighborsClassifier(), X_val, y_val, cv=10, param_name='n_neighbors', param_range=param_range)\n\nplt.plot(param_range, np.median(train_score, 1), color='blue', label='training score')\nplt.plot(param_range, np.median(val_score, 1), color='red', label='validation score')\nplt.legend(loc='best')\nplt.ylim(0, 1)\nplt.xlabel('param')\nplt.ylabel('score')\n\n###\n\nknn = KNeighborsClassifier(n_neighbors=3)\nknn.fit(X_train,y_train)\nknn.score(X_test, y_test)",
   "execution_count": null,
   "outputs": [
    {
     "output_type": "execute_result",
     "execution_count": 6,
     "data": {
      "text/plain": "0.6929611650485437"
     },
     "metadata": {}
    },
    {
     "data": {
      "text/plain": "<Figure size 432x288 with 1 Axes>",
      "image/png": "[encoded data removed]"
     },
     "metadata": {
      "image/png": {
       "width": 393,
       "height": 272
      }
     },
     "output_type": "display_data"
    }
   ]
  },
  {
   "cell_type": "markdown",
   "source": "### With cross-validation",
   "metadata": {
    "cell_id": "0c266e7c-d7d8-445a-9bc3-de02b11c2279",
    "tags": [],
    "deepnote_cell_type": "markdown"
   }
  },
  {
   "cell_type": "code",
   "metadata": {
    "cell_id": "4759a1d7-b40c-4193-b01a-ed6101041a6f",
    "tags": [],
    "deepnote_to_be_reexecuted": false,
    "source_hash": "53c7dc44",
    "execution_start": 1646396616359,
    "execution_millis": 269,
    "deepnote_cell_type": "code"
   },
   "source": "knn = KNeighborsClassifier(n_neighbors=3)\nknn.fit(input,target)\n# score = knn.score(X_test,y_test)\nscores = cross_val_score(knn, input, target, cv=10)\nscores.mean()",
   "execution_count": null,
   "outputs": [
    {
     "output_type": "execute_result",
     "execution_count": 7,
     "data": {
      "text/plain": "0.6468316679658895"
     },
     "metadata": {}
    }
   ]
  },
  {
   "cell_type": "markdown",
   "source": "## DT",
   "metadata": {
    "id": "1hy0HPbgGvwY",
    "cell_id": "00006-a74cb03a-1758-4f32-b71d-d96f1a9f47c1",
    "deepnote_cell_type": "markdown"
   }
  },
  {
   "cell_type": "code",
   "metadata": {
    "colab": {
     "base_uri": "https://localhost:8080/"
    },
    "id": "mMg3SpN9G0p7",
    "outputId": "369e5fd6-37b1-4e62-d0aa-688b51eaa95b",
    "cell_id": "00007-50e91b8b-43ee-4a47-8a1a-f5c993a75a22",
    "deepnote_to_be_reexecuted": false,
    "source_hash": "ae89c2ab",
    "execution_start": 1646396616629,
    "execution_millis": 14,
    "deepnote_cell_type": "code"
   },
   "source": "X_train, X_test, y_train, y_test = train_test_split(input, target, test_size=0.2)\ndtree = DecisionTreeClassifier( max_depth=8)\n\ndtree.fit(X_train, y_train)\ndtree.score(X_test, y_test)",
   "execution_count": null,
   "outputs": [
    {
     "output_type": "execute_result",
     "execution_count": 8,
     "data": {
      "text/plain": "0.7548543689320388"
     },
     "metadata": {}
    }
   ]
  },
  {
   "cell_type": "markdown",
   "source": "## KNN",
   "metadata": {
    "id": "rn4AfQaoHcZs",
    "cell_id": "00009-279cfbbb-fa7e-459b-833b-4dc499632a3b",
    "deepnote_cell_type": "markdown"
   }
  },
  {
   "cell_type": "code",
   "metadata": {
    "id": "N6qQCJy6Hhm3",
    "colab": {
     "base_uri": "https://localhost:8080/"
    },
    "outputId": "653d3d03-1a16-43fb-d235-e8fcc83dd712",
    "cell_id": "00010-20a09305-fd9b-4d24-aeb4-a08ce1a84430",
    "deepnote_to_be_reexecuted": false,
    "source_hash": "9cfbdb4e",
    "execution_start": 1646396616649,
    "execution_millis": 48,
    "deepnote_cell_type": "code"
   },
   "source": "knn = KNeighborsClassifier(n_neighbors=3)\nknn.fit(X_train,y_train)\nknn.score(X_test,y_test)",
   "execution_count": null,
   "outputs": [
    {
     "output_type": "execute_result",
     "execution_count": 9,
     "data": {
      "text/plain": "0.7196601941747572"
     },
     "metadata": {}
    }
   ]
  },
  {
   "cell_type": "markdown",
   "source": "## SVM",
   "metadata": {
    "id": "98B9vUU1Hiw0",
    "cell_id": "00011-3786c052-7a2f-4716-a87d-d28ae518413b",
    "deepnote_cell_type": "markdown"
   }
  },
  {
   "cell_type": "code",
   "metadata": {
    "cell_id": "0570e4d0-0f06-489b-b3ac-1eb03e47332e",
    "tags": [],
    "deepnote_to_be_reexecuted": false,
    "source_hash": "cd8c9839",
    "execution_start": 1646396616693,
    "execution_millis": 619,
    "deepnote_cell_type": "code"
   },
   "source": "svc = SVC()\nsvc.fit(X_train, y_train)\nsvc.score(X_test, y_test)",
   "execution_count": null,
   "outputs": [
    {
     "output_type": "execute_result",
     "execution_count": 10,
     "data": {
      "text/plain": "0.7609223300970874"
     },
     "metadata": {}
    }
   ]
  },
  {
   "cell_type": "markdown",
   "source": "<a style='text-decoration:none;line-height:16px;display:flex;color:#5B5B62;padding:10px;justify-content:end;' href='https://deepnote.com?utm_source=created-in-deepnote-cell&projectId=910b37c8-07c7-4f3d-a1cf-55eb226f4bff' target=\"_blank\">\n<img alt='Created in deepnote.com' style='display:inline;max-height:16px;margin:0px;margin-right:7.5px;' src='data:image/svg+xml;base64,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' > </img>\nCreated in <span style='font-weight:600;margin-left:4px;'>Deepnote</span></a>",
   "metadata": {
    "tags": [],
    "created_in_deepnote_cell": true,
    "deepnote_cell_type": "markdown"
   }
  }
 ],
 "nbformat": 4,
 "nbformat_minor": 0,
 "metadata": {
  "colab": {
   "name": "Bank loan risk data.ipynb",
   "provenance": [],
   "collapsed_sections": []
  },
  "kernelspec": {
   "name": "python3",
   "display_name": "Python 3"
  },
  "language_info": {
   "name": "python"
  },
  "deepnote_notebook_id": "25594b14-357f-4672-85ba-664388a14aef",
  "deepnote": {},
  "deepnote_execution_queue": []
 }
}